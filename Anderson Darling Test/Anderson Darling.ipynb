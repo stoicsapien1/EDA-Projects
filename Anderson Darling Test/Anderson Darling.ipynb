{
 "cells": [
  {
   "cell_type": "code",
   "execution_count": 20,
   "id": "aa3fce69",
   "metadata": {},
   "outputs": [],
   "source": [
    "import numpy as np\n",
    "import scipy.stats as stats \n",
    "import pandas as pd\n",
    "import seaborn as sns\n",
    "import matplotlib.pyplot as plt\n",
    "from scipy.stats import expon\n",
    "from scipy.stats import anderson"
   ]
  },
  {
   "cell_type": "markdown",
   "id": "85244f91",
   "metadata": {},
   "source": [
    "## Generate 200 data for Normal,Uniform and Exponential Distribution"
   ]
  },
  {
   "cell_type": "code",
   "execution_count": 8,
   "id": "540e41c5",
   "metadata": {},
   "outputs": [],
   "source": [
    "#Normal Distribution\n",
    "mu=0\n",
    "sigma=1\n",
    "normal_data=np.random.normal(loc=mu,scale=sigma,size=200)"
   ]
  },
  {
   "cell_type": "code",
   "execution_count": 11,
   "id": "30aebe89",
   "metadata": {},
   "outputs": [],
   "source": [
    "#Uniform Distribution\n",
    "lower=0\n",
    "upper=100\n",
    "uniform_data=np.random.uniform(low=lower,high=upper,size=200)"
   ]
  },
  {
   "cell_type": "code",
   "execution_count": 17,
   "id": "c662b64d",
   "metadata": {},
   "outputs": [],
   "source": [
    "#Exponential Distribution\n",
    "expon_data=expon.rvs(scale=40,size=200)"
   ]
  },
  {
   "cell_type": "markdown",
   "id": "ac583728",
   "metadata": {},
   "source": [
    "## Anderson-Darling Test on above distribution to check Normality"
   ]
  },
  {
   "cell_type": "code",
   "execution_count": 33,
   "id": "2c4bcbe3",
   "metadata": {},
   "outputs": [
    {
     "name": "stdout",
     "output_type": "stream",
     "text": [
      "0.16865145079236754 [0.565 0.644 0.772 0.901 1.071] [15.  10.   5.   2.5  1. ]\n",
      "Fail to reject the Null Hypothesis\n"
     ]
    }
   ],
   "source": [
    "#Norml Distribution\n",
    "res=anderson(normal_data,dist=\"norm\")\n",
    "print(res.statistic,res.critical_values,res.significance_level)\n",
    "if res.statistic<res.critical_values[2]:\n",
    "    print(\"Fail to reject the Null Hypothesis\")\n",
    "else:\n",
    "    print(\"Reject the Null Hypothesis\")"
   ]
  },
  {
   "cell_type": "code",
   "execution_count": 36,
   "id": "9a3202ee",
   "metadata": {},
   "outputs": [
    {
     "name": "stdout",
     "output_type": "stream",
     "text": [
      "1.796466968515091 [0.565 0.644 0.772 0.901 1.071] [15.  10.   5.   2.5  1. ]\n",
      "Reject the Null Hypothesis\n"
     ]
    }
   ],
   "source": [
    "#Uniform Distribution\n",
    "res=anderson(uniform_data,dist=\"norm\")\n",
    "print(res.statistic,res.critical_values,res.significance_level)\n",
    "if res.statistic<res.critical_values[2]:\n",
    "    print(\"Fail to reject the Null Hypothesis\")\n",
    "else:\n",
    "    print(\"Reject the Null Hypothesis\")"
   ]
  },
  {
   "cell_type": "code",
   "execution_count": 35,
   "id": "7cbcc824",
   "metadata": {},
   "outputs": [
    {
     "name": "stdout",
     "output_type": "stream",
     "text": [
      "8.469950818330489 [0.565 0.644 0.772 0.901 1.071] [15.  10.   5.   2.5  1. ]\n",
      "Reject the Null Hypothesis\n"
     ]
    }
   ],
   "source": [
    "#Exponential Distribution\n",
    "res=anderson(expon_data,dist=\"norm\")\n",
    "print(res.statistic,res.critical_values,res.significance_level)\n",
    "if res.statistic<res.critical_values[2]:\n",
    "    print(\"Fail to reject the Null Hypothesis\")\n",
    "else:\n",
    "    print(\"Reject the Null Hypothesis\")"
   ]
  },
  {
   "cell_type": "code",
   "execution_count": null,
   "id": "57c5820a",
   "metadata": {},
   "outputs": [],
   "source": []
  }
 ],
 "metadata": {
  "kernelspec": {
   "display_name": "Python 3 (ipykernel)",
   "language": "python",
   "name": "python3"
  },
  "language_info": {
   "codemirror_mode": {
    "name": "ipython",
    "version": 3
   },
   "file_extension": ".py",
   "mimetype": "text/x-python",
   "name": "python",
   "nbconvert_exporter": "python",
   "pygments_lexer": "ipython3",
   "version": "3.10.9"
  }
 },
 "nbformat": 4,
 "nbformat_minor": 5
}
