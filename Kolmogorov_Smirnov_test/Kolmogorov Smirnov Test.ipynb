{
 "cells": [
  {
   "cell_type": "code",
   "execution_count": 30,
   "id": "3857e460",
   "metadata": {},
   "outputs": [],
   "source": [
    "import numpy as np\n",
    "import scipy.stats as stats\n",
    "import pandas as pd\n",
    "import seaborn as sns"
   ]
  },
  {
   "cell_type": "code",
   "execution_count": 12,
   "id": "d60dc7c0",
   "metadata": {},
   "outputs": [],
   "source": [
    "data={\"DATA\":[294.2,308.5,313.1,317.7,322.7,338.7]}"
   ]
  },
  {
   "cell_type": "code",
   "execution_count": 15,
   "id": "6f29ed28",
   "metadata": {},
   "outputs": [],
   "source": [
    "df=pd.DataFrame(data)"
   ]
  },
  {
   "cell_type": "code",
   "execution_count": 16,
   "id": "ddd7241b",
   "metadata": {},
   "outputs": [
    {
     "data": {
      "text/html": [
       "<div>\n",
       "<style scoped>\n",
       "    .dataframe tbody tr th:only-of-type {\n",
       "        vertical-align: middle;\n",
       "    }\n",
       "\n",
       "    .dataframe tbody tr th {\n",
       "        vertical-align: top;\n",
       "    }\n",
       "\n",
       "    .dataframe thead th {\n",
       "        text-align: right;\n",
       "    }\n",
       "</style>\n",
       "<table border=\"1\" class=\"dataframe\">\n",
       "  <thead>\n",
       "    <tr style=\"text-align: right;\">\n",
       "      <th></th>\n",
       "      <th>DATA</th>\n",
       "    </tr>\n",
       "  </thead>\n",
       "  <tbody>\n",
       "    <tr>\n",
       "      <th>0</th>\n",
       "      <td>294.2</td>\n",
       "    </tr>\n",
       "    <tr>\n",
       "      <th>1</th>\n",
       "      <td>308.5</td>\n",
       "    </tr>\n",
       "    <tr>\n",
       "      <th>2</th>\n",
       "      <td>313.1</td>\n",
       "    </tr>\n",
       "    <tr>\n",
       "      <th>3</th>\n",
       "      <td>317.7</td>\n",
       "    </tr>\n",
       "    <tr>\n",
       "      <th>4</th>\n",
       "      <td>322.7</td>\n",
       "    </tr>\n",
       "    <tr>\n",
       "      <th>5</th>\n",
       "      <td>338.7</td>\n",
       "    </tr>\n",
       "  </tbody>\n",
       "</table>\n",
       "</div>"
      ],
      "text/plain": [
       "    DATA\n",
       "0  294.2\n",
       "1  308.5\n",
       "2  313.1\n",
       "3  317.7\n",
       "4  322.7\n",
       "5  338.7"
      ]
     },
     "execution_count": 16,
     "metadata": {},
     "output_type": "execute_result"
    }
   ],
   "source": [
    "df"
   ]
  },
  {
   "cell_type": "code",
   "execution_count": 32,
   "id": "6a83ca70",
   "metadata": {},
   "outputs": [
    {
     "name": "stderr",
     "output_type": "stream",
     "text": [
      "C:\\Users\\lucius seneca\\AppData\\Local\\Temp\\ipykernel_20572\\2023670677.py:1: UserWarning: \n",
      "\n",
      "`distplot` is a deprecated function and will be removed in seaborn v0.14.0.\n",
      "\n",
      "Please adapt your code to use either `displot` (a figure-level function with\n",
      "similar flexibility) or `histplot` (an axes-level function for histograms).\n",
      "\n",
      "For a guide to updating your code to use the new functions, please see\n",
      "https://gist.github.com/mwaskom/de44147ed2974457ad6372750bbe5751\n",
      "\n",
      "  sns.distplot(df[\"DATA\"])\n"
     ]
    },
    {
     "data": {
      "text/plain": [
       "<Axes: xlabel='DATA', ylabel='Density'>"
      ]
     },
     "execution_count": 32,
     "metadata": {},
     "output_type": "execute_result"
    },
    {
     "data": {
      "image/png": "[encoded data removed]",
      "text/plain": [
       "<Figure size 640x480 with 1 Axes>"
      ]
     },
     "metadata": {},
     "output_type": "display_data"
    }
   ],
   "source": [
    "sns.distplot(df[\"DATA\"])"
   ]
  },
  {
   "cell_type": "code",
   "execution_count": 20,
   "id": "53319373",
   "metadata": {},
   "outputs": [],
   "source": [
    "dmean=df[\"DATA\"].mean()"
   ]
  },
  {
   "cell_type": "code",
   "execution_count": 21,
   "id": "7af2c977",
   "metadata": {},
   "outputs": [],
   "source": [
    "dstd=df[\"DATA\"].std()"
   ]
  },
  {
   "cell_type": "code",
   "execution_count": 22,
   "id": "69300b74",
   "metadata": {},
   "outputs": [],
   "source": [
    "df[\"Z Score\"]=(df[\"DATA\"]-dmean)/dstd"
   ]
  },
  {
   "cell_type": "code",
   "execution_count": 23,
   "id": "a9f3d2bd",
   "metadata": {},
   "outputs": [
    {
     "data": {
      "text/html": [
       "<div>\n",
       "<style scoped>\n",
       "    .dataframe tbody tr th:only-of-type {\n",
       "        vertical-align: middle;\n",
       "    }\n",
       "\n",
       "    .dataframe tbody tr th {\n",
       "        vertical-align: top;\n",
       "    }\n",
       "\n",
       "    .dataframe thead th {\n",
       "        text-align: right;\n",
       "    }\n",
       "</style>\n",
       "<table border=\"1\" class=\"dataframe\">\n",
       "  <thead>\n",
       "    <tr style=\"text-align: right;\">\n",
       "      <th></th>\n",
       "      <th>DATA</th>\n",
       "      <th>Z Score</th>\n",
       "    </tr>\n",
       "  </thead>\n",
       "  <tbody>\n",
       "    <tr>\n",
       "      <th>0</th>\n",
       "      <td>294.2</td>\n",
       "      <td>-1.455565</td>\n",
       "    </tr>\n",
       "    <tr>\n",
       "      <th>1</th>\n",
       "      <td>308.5</td>\n",
       "      <td>-0.492670</td>\n",
       "    </tr>\n",
       "    <tr>\n",
       "      <th>2</th>\n",
       "      <td>313.1</td>\n",
       "      <td>-0.182928</td>\n",
       "    </tr>\n",
       "    <tr>\n",
       "      <th>3</th>\n",
       "      <td>317.7</td>\n",
       "      <td>0.126815</td>\n",
       "    </tr>\n",
       "    <tr>\n",
       "      <th>4</th>\n",
       "      <td>322.7</td>\n",
       "      <td>0.463491</td>\n",
       "    </tr>\n",
       "    <tr>\n",
       "      <th>5</th>\n",
       "      <td>338.7</td>\n",
       "      <td>1.540856</td>\n",
       "    </tr>\n",
       "  </tbody>\n",
       "</table>\n",
       "</div>"
      ],
      "text/plain": [
       "    DATA   Z Score\n",
       "0  294.2 -1.455565\n",
       "1  308.5 -0.492670\n",
       "2  313.1 -0.182928\n",
       "3  317.7  0.126815\n",
       "4  322.7  0.463491\n",
       "5  338.7  1.540856"
      ]
     },
     "execution_count": 23,
     "metadata": {},
     "output_type": "execute_result"
    }
   ],
   "source": [
    "df"
   ]
  },
  {
   "cell_type": "code",
   "execution_count": 25,
   "id": "6e887da5",
   "metadata": {},
   "outputs": [],
   "source": [
    "df[\"F0\"]=stats.norm.cdf(df[\"Z Score\"])"
   ]
  },
  {
   "cell_type": "code",
   "execution_count": 26,
   "id": "47ed8946",
   "metadata": {},
   "outputs": [
    {
     "data": {
      "text/html": [
       "<div>\n",
       "<style scoped>\n",
       "    .dataframe tbody tr th:only-of-type {\n",
       "        vertical-align: middle;\n",
       "    }\n",
       "\n",
       "    .dataframe tbody tr th {\n",
       "        vertical-align: top;\n",
       "    }\n",
       "\n",
       "    .dataframe thead th {\n",
       "        text-align: right;\n",
       "    }\n",
       "</style>\n",
       "<table border=\"1\" class=\"dataframe\">\n",
       "  <thead>\n",
       "    <tr style=\"text-align: right;\">\n",
       "      <th></th>\n",
       "      <th>DATA</th>\n",
       "      <th>Z Score</th>\n",
       "      <th>F0</th>\n",
       "    </tr>\n",
       "  </thead>\n",
       "  <tbody>\n",
       "    <tr>\n",
       "      <th>0</th>\n",
       "      <td>294.2</td>\n",
       "      <td>-1.455565</td>\n",
       "      <td>0.072756</td>\n",
       "    </tr>\n",
       "    <tr>\n",
       "      <th>1</th>\n",
       "      <td>308.5</td>\n",
       "      <td>-0.492670</td>\n",
       "      <td>0.311123</td>\n",
       "    </tr>\n",
       "    <tr>\n",
       "      <th>2</th>\n",
       "      <td>313.1</td>\n",
       "      <td>-0.182928</td>\n",
       "      <td>0.427427</td>\n",
       "    </tr>\n",
       "    <tr>\n",
       "      <th>3</th>\n",
       "      <td>317.7</td>\n",
       "      <td>0.126815</td>\n",
       "      <td>0.550457</td>\n",
       "    </tr>\n",
       "    <tr>\n",
       "      <th>4</th>\n",
       "      <td>322.7</td>\n",
       "      <td>0.463491</td>\n",
       "      <td>0.678494</td>\n",
       "    </tr>\n",
       "    <tr>\n",
       "      <th>5</th>\n",
       "      <td>338.7</td>\n",
       "      <td>1.540856</td>\n",
       "      <td>0.938324</td>\n",
       "    </tr>\n",
       "  </tbody>\n",
       "</table>\n",
       "</div>"
      ],
      "text/plain": [
       "    DATA   Z Score        F0\n",
       "0  294.2 -1.455565  0.072756\n",
       "1  308.5 -0.492670  0.311123\n",
       "2  313.1 -0.182928  0.427427\n",
       "3  317.7  0.126815  0.550457\n",
       "4  322.7  0.463491  0.678494\n",
       "5  338.7  1.540856  0.938324"
      ]
     },
     "execution_count": 26,
     "metadata": {},
     "output_type": "execute_result"
    }
   ],
   "source": [
    "df"
   ]
  },
  {
   "cell_type": "code",
   "execution_count": 27,
   "id": "155f3793",
   "metadata": {},
   "outputs": [],
   "source": [
    "n=len(df[\"DATA\"])"
   ]
  },
  {
   "cell_type": "code",
   "execution_count": 28,
   "id": "c7fbbe2b",
   "metadata": {},
   "outputs": [
    {
     "data": {
      "text/plain": [
       "6"
      ]
     },
     "execution_count": 28,
     "metadata": {},
     "output_type": "execute_result"
    }
   ],
   "source": [
    "n"
   ]
  },
  {
   "cell_type": "code",
   "execution_count": 33,
   "id": "287487b6",
   "metadata": {},
   "outputs": [],
   "source": [
    "df[\"Fn\"]=np.arange(1,n+1)/n"
   ]
  },
  {
   "cell_type": "code",
   "execution_count": 34,
   "id": "0964c952",
   "metadata": {},
   "outputs": [
    {
     "data": {
      "text/html": [
       "<div>\n",
       "<style scoped>\n",
       "    .dataframe tbody tr th:only-of-type {\n",
       "        vertical-align: middle;\n",
       "    }\n",
       "\n",
       "    .dataframe tbody tr th {\n",
       "        vertical-align: top;\n",
       "    }\n",
       "\n",
       "    .dataframe thead th {\n",
       "        text-align: right;\n",
       "    }\n",
       "</style>\n",
       "<table border=\"1\" class=\"dataframe\">\n",
       "  <thead>\n",
       "    <tr style=\"text-align: right;\">\n",
       "      <th></th>\n",
       "      <th>DATA</th>\n",
       "      <th>Z Score</th>\n",
       "      <th>F0</th>\n",
       "      <th>Fn</th>\n",
       "    </tr>\n",
       "  </thead>\n",
       "  <tbody>\n",
       "    <tr>\n",
       "      <th>0</th>\n",
       "      <td>294.2</td>\n",
       "      <td>-1.455565</td>\n",
       "      <td>0.072756</td>\n",
       "      <td>0.166667</td>\n",
       "    </tr>\n",
       "    <tr>\n",
       "      <th>1</th>\n",
       "      <td>308.5</td>\n",
       "      <td>-0.492670</td>\n",
       "      <td>0.311123</td>\n",
       "      <td>0.333333</td>\n",
       "    </tr>\n",
       "    <tr>\n",
       "      <th>2</th>\n",
       "      <td>313.1</td>\n",
       "      <td>-0.182928</td>\n",
       "      <td>0.427427</td>\n",
       "      <td>0.500000</td>\n",
       "    </tr>\n",
       "    <tr>\n",
       "      <th>3</th>\n",
       "      <td>317.7</td>\n",
       "      <td>0.126815</td>\n",
       "      <td>0.550457</td>\n",
       "      <td>0.666667</td>\n",
       "    </tr>\n",
       "    <tr>\n",
       "      <th>4</th>\n",
       "      <td>322.7</td>\n",
       "      <td>0.463491</td>\n",
       "      <td>0.678494</td>\n",
       "      <td>0.833333</td>\n",
       "    </tr>\n",
       "    <tr>\n",
       "      <th>5</th>\n",
       "      <td>338.7</td>\n",
       "      <td>1.540856</td>\n",
       "      <td>0.938324</td>\n",
       "      <td>1.000000</td>\n",
       "    </tr>\n",
       "  </tbody>\n",
       "</table>\n",
       "</div>"
      ],
      "text/plain": [
       "    DATA   Z Score        F0        Fn\n",
       "0  294.2 -1.455565  0.072756  0.166667\n",
       "1  308.5 -0.492670  0.311123  0.333333\n",
       "2  313.1 -0.182928  0.427427  0.500000\n",
       "3  317.7  0.126815  0.550457  0.666667\n",
       "4  322.7  0.463491  0.678494  0.833333\n",
       "5  338.7  1.540856  0.938324  1.000000"
      ]
     },
     "execution_count": 34,
     "metadata": {},
     "output_type": "execute_result"
    }
   ],
   "source": [
    "df"
   ]
  },
  {
   "cell_type": "code",
   "execution_count": 35,
   "id": "9b1aafbb",
   "metadata": {},
   "outputs": [],
   "source": [
    "df[\"Fn-1\"]=np.arange(0,n)/n"
   ]
  },
  {
   "cell_type": "code",
   "execution_count": 36,
   "id": "74b656a7",
   "metadata": {},
   "outputs": [
    {
     "data": {
      "text/html": [
       "<div>\n",
       "<style scoped>\n",
       "    .dataframe tbody tr th:only-of-type {\n",
       "        vertical-align: middle;\n",
       "    }\n",
       "\n",
       "    .dataframe tbody tr th {\n",
       "        vertical-align: top;\n",
       "    }\n",
       "\n",
       "    .dataframe thead th {\n",
       "        text-align: right;\n",
       "    }\n",
       "</style>\n",
       "<table border=\"1\" class=\"dataframe\">\n",
       "  <thead>\n",
       "    <tr style=\"text-align: right;\">\n",
       "      <th></th>\n",
       "      <th>DATA</th>\n",
       "      <th>Z Score</th>\n",
       "      <th>F0</th>\n",
       "      <th>Fn</th>\n",
       "      <th>Fn-1</th>\n",
       "    </tr>\n",
       "  </thead>\n",
       "  <tbody>\n",
       "    <tr>\n",
       "      <th>0</th>\n",
       "      <td>294.2</td>\n",
       "      <td>-1.455565</td>\n",
       "      <td>0.072756</td>\n",
       "      <td>0.166667</td>\n",
       "      <td>0.000000</td>\n",
       "    </tr>\n",
       "    <tr>\n",
       "      <th>1</th>\n",
       "      <td>308.5</td>\n",
       "      <td>-0.492670</td>\n",
       "      <td>0.311123</td>\n",
       "      <td>0.333333</td>\n",
       "      <td>0.166667</td>\n",
       "    </tr>\n",
       "    <tr>\n",
       "      <th>2</th>\n",
       "      <td>313.1</td>\n",
       "      <td>-0.182928</td>\n",
       "      <td>0.427427</td>\n",
       "      <td>0.500000</td>\n",
       "      <td>0.333333</td>\n",
       "    </tr>\n",
       "    <tr>\n",
       "      <th>3</th>\n",
       "      <td>317.7</td>\n",
       "      <td>0.126815</td>\n",
       "      <td>0.550457</td>\n",
       "      <td>0.666667</td>\n",
       "      <td>0.500000</td>\n",
       "    </tr>\n",
       "    <tr>\n",
       "      <th>4</th>\n",
       "      <td>322.7</td>\n",
       "      <td>0.463491</td>\n",
       "      <td>0.678494</td>\n",
       "      <td>0.833333</td>\n",
       "      <td>0.666667</td>\n",
       "    </tr>\n",
       "    <tr>\n",
       "      <th>5</th>\n",
       "      <td>338.7</td>\n",
       "      <td>1.540856</td>\n",
       "      <td>0.938324</td>\n",
       "      <td>1.000000</td>\n",
       "      <td>0.833333</td>\n",
       "    </tr>\n",
       "  </tbody>\n",
       "</table>\n",
       "</div>"
      ],
      "text/plain": [
       "    DATA   Z Score        F0        Fn      Fn-1\n",
       "0  294.2 -1.455565  0.072756  0.166667  0.000000\n",
       "1  308.5 -0.492670  0.311123  0.333333  0.166667\n",
       "2  313.1 -0.182928  0.427427  0.500000  0.333333\n",
       "3  317.7  0.126815  0.550457  0.666667  0.500000\n",
       "4  322.7  0.463491  0.678494  0.833333  0.666667\n",
       "5  338.7  1.540856  0.938324  1.000000  0.833333"
      ]
     },
     "execution_count": 36,
     "metadata": {},
     "output_type": "execute_result"
    }
   ],
   "source": [
    "df"
   ]
  },
  {
   "cell_type": "code",
   "execution_count": 41,
   "id": "91b5853d",
   "metadata": {},
   "outputs": [],
   "source": [
    "df[\"D+\"]=(df[\"F0\"]-df[\"Fn\"]).abs()"
   ]
  },
  {
   "cell_type": "code",
   "execution_count": 38,
   "id": "2e942c82",
   "metadata": {},
   "outputs": [
    {
     "data": {
      "text/html": [
       "<div>\n",
       "<style scoped>\n",
       "    .dataframe tbody tr th:only-of-type {\n",
       "        vertical-align: middle;\n",
       "    }\n",
       "\n",
       "    .dataframe tbody tr th {\n",
       "        vertical-align: top;\n",
       "    }\n",
       "\n",
       "    .dataframe thead th {\n",
       "        text-align: right;\n",
       "    }\n",
       "</style>\n",
       "<table border=\"1\" class=\"dataframe\">\n",
       "  <thead>\n",
       "    <tr style=\"text-align: right;\">\n",
       "      <th></th>\n",
       "      <th>DATA</th>\n",
       "      <th>Z Score</th>\n",
       "      <th>F0</th>\n",
       "      <th>Fn</th>\n",
       "      <th>Fn-1</th>\n",
       "      <th>D+</th>\n",
       "    </tr>\n",
       "  </thead>\n",
       "  <tbody>\n",
       "    <tr>\n",
       "      <th>0</th>\n",
       "      <td>294.2</td>\n",
       "      <td>-1.455565</td>\n",
       "      <td>0.072756</td>\n",
       "      <td>0.166667</td>\n",
       "      <td>0.000000</td>\n",
       "      <td>0.093910</td>\n",
       "    </tr>\n",
       "    <tr>\n",
       "      <th>1</th>\n",
       "      <td>308.5</td>\n",
       "      <td>-0.492670</td>\n",
       "      <td>0.311123</td>\n",
       "      <td>0.333333</td>\n",
       "      <td>0.166667</td>\n",
       "      <td>0.022210</td>\n",
       "    </tr>\n",
       "    <tr>\n",
       "      <th>2</th>\n",
       "      <td>313.1</td>\n",
       "      <td>-0.182928</td>\n",
       "      <td>0.427427</td>\n",
       "      <td>0.500000</td>\n",
       "      <td>0.333333</td>\n",
       "      <td>0.072573</td>\n",
       "    </tr>\n",
       "    <tr>\n",
       "      <th>3</th>\n",
       "      <td>317.7</td>\n",
       "      <td>0.126815</td>\n",
       "      <td>0.550457</td>\n",
       "      <td>0.666667</td>\n",
       "      <td>0.500000</td>\n",
       "      <td>0.116210</td>\n",
       "    </tr>\n",
       "    <tr>\n",
       "      <th>4</th>\n",
       "      <td>322.7</td>\n",
       "      <td>0.463491</td>\n",
       "      <td>0.678494</td>\n",
       "      <td>0.833333</td>\n",
       "      <td>0.666667</td>\n",
       "      <td>0.154839</td>\n",
       "    </tr>\n",
       "    <tr>\n",
       "      <th>5</th>\n",
       "      <td>338.7</td>\n",
       "      <td>1.540856</td>\n",
       "      <td>0.938324</td>\n",
       "      <td>1.000000</td>\n",
       "      <td>0.833333</td>\n",
       "      <td>0.061676</td>\n",
       "    </tr>\n",
       "  </tbody>\n",
       "</table>\n",
       "</div>"
      ],
      "text/plain": [
       "    DATA   Z Score        F0        Fn      Fn-1        D+\n",
       "0  294.2 -1.455565  0.072756  0.166667  0.000000  0.093910\n",
       "1  308.5 -0.492670  0.311123  0.333333  0.166667  0.022210\n",
       "2  313.1 -0.182928  0.427427  0.500000  0.333333  0.072573\n",
       "3  317.7  0.126815  0.550457  0.666667  0.500000  0.116210\n",
       "4  322.7  0.463491  0.678494  0.833333  0.666667  0.154839\n",
       "5  338.7  1.540856  0.938324  1.000000  0.833333  0.061676"
      ]
     },
     "execution_count": 38,
     "metadata": {},
     "output_type": "execute_result"
    }
   ],
   "source": [
    "df"
   ]
  },
  {
   "cell_type": "code",
   "execution_count": 42,
   "id": "870c2738",
   "metadata": {},
   "outputs": [],
   "source": [
    "df[\"D-\"]=(df[\"F0\"]-df[\"Fn-1\"]).abs()"
   ]
  },
  {
   "cell_type": "code",
   "execution_count": 43,
   "id": "4101f7f0",
   "metadata": {},
   "outputs": [
    {
     "data": {
      "text/html": [
       "<div>\n",
       "<style scoped>\n",
       "    .dataframe tbody tr th:only-of-type {\n",
       "        vertical-align: middle;\n",
       "    }\n",
       "\n",
       "    .dataframe tbody tr th {\n",
       "        vertical-align: top;\n",
       "    }\n",
       "\n",
       "    .dataframe thead th {\n",
       "        text-align: right;\n",
       "    }\n",
       "</style>\n",
       "<table border=\"1\" class=\"dataframe\">\n",
       "  <thead>\n",
       "    <tr style=\"text-align: right;\">\n",
       "      <th></th>\n",
       "      <th>DATA</th>\n",
       "      <th>Z Score</th>\n",
       "      <th>F0</th>\n",
       "      <th>Fn</th>\n",
       "      <th>Fn-1</th>\n",
       "      <th>D+</th>\n",
       "      <th>D-</th>\n",
       "    </tr>\n",
       "  </thead>\n",
       "  <tbody>\n",
       "    <tr>\n",
       "      <th>0</th>\n",
       "      <td>294.2</td>\n",
       "      <td>-1.455565</td>\n",
       "      <td>0.072756</td>\n",
       "      <td>0.166667</td>\n",
       "      <td>0.000000</td>\n",
       "      <td>0.093910</td>\n",
       "      <td>0.072756</td>\n",
       "    </tr>\n",
       "    <tr>\n",
       "      <th>1</th>\n",
       "      <td>308.5</td>\n",
       "      <td>-0.492670</td>\n",
       "      <td>0.311123</td>\n",
       "      <td>0.333333</td>\n",
       "      <td>0.166667</td>\n",
       "      <td>0.022210</td>\n",
       "      <td>0.144456</td>\n",
       "    </tr>\n",
       "    <tr>\n",
       "      <th>2</th>\n",
       "      <td>313.1</td>\n",
       "      <td>-0.182928</td>\n",
       "      <td>0.427427</td>\n",
       "      <td>0.500000</td>\n",
       "      <td>0.333333</td>\n",
       "      <td>0.072573</td>\n",
       "      <td>0.094094</td>\n",
       "    </tr>\n",
       "    <tr>\n",
       "      <th>3</th>\n",
       "      <td>317.7</td>\n",
       "      <td>0.126815</td>\n",
       "      <td>0.550457</td>\n",
       "      <td>0.666667</td>\n",
       "      <td>0.500000</td>\n",
       "      <td>0.116210</td>\n",
       "      <td>0.050457</td>\n",
       "    </tr>\n",
       "    <tr>\n",
       "      <th>4</th>\n",
       "      <td>322.7</td>\n",
       "      <td>0.463491</td>\n",
       "      <td>0.678494</td>\n",
       "      <td>0.833333</td>\n",
       "      <td>0.666667</td>\n",
       "      <td>0.154839</td>\n",
       "      <td>0.011827</td>\n",
       "    </tr>\n",
       "    <tr>\n",
       "      <th>5</th>\n",
       "      <td>338.7</td>\n",
       "      <td>1.540856</td>\n",
       "      <td>0.938324</td>\n",
       "      <td>1.000000</td>\n",
       "      <td>0.833333</td>\n",
       "      <td>0.061676</td>\n",
       "      <td>0.104991</td>\n",
       "    </tr>\n",
       "  </tbody>\n",
       "</table>\n",
       "</div>"
      ],
      "text/plain": [
       "    DATA   Z Score        F0        Fn      Fn-1        D+        D-\n",
       "0  294.2 -1.455565  0.072756  0.166667  0.000000  0.093910  0.072756\n",
       "1  308.5 -0.492670  0.311123  0.333333  0.166667  0.022210  0.144456\n",
       "2  313.1 -0.182928  0.427427  0.500000  0.333333  0.072573  0.094094\n",
       "3  317.7  0.126815  0.550457  0.666667  0.500000  0.116210  0.050457\n",
       "4  322.7  0.463491  0.678494  0.833333  0.666667  0.154839  0.011827\n",
       "5  338.7  1.540856  0.938324  1.000000  0.833333  0.061676  0.104991"
      ]
     },
     "execution_count": 43,
     "metadata": {},
     "output_type": "execute_result"
    }
   ],
   "source": [
    "df"
   ]
  },
  {
   "cell_type": "code",
   "execution_count": 47,
   "id": "747756be",
   "metadata": {},
   "outputs": [],
   "source": [
    "D= df[[\"D+\",\"D-\"]].max()"
   ]
  },
  {
   "cell_type": "code",
   "execution_count": 49,
   "id": "86d91e84",
   "metadata": {},
   "outputs": [],
   "source": [
    "D_statistic=D.max()"
   ]
  },
  {
   "cell_type": "code",
   "execution_count": 51,
   "id": "2dd2aca6",
   "metadata": {},
   "outputs": [
    {
     "data": {
      "text/plain": [
       "0.15483942994096156"
      ]
     },
     "execution_count": 51,
     "metadata": {},
     "output_type": "execute_result"
    }
   ],
   "source": [
    "D_statistic"
   ]
  },
  {
   "cell_type": "code",
   "execution_count": 53,
   "id": "f152cb97",
   "metadata": {},
   "outputs": [],
   "source": [
    "critical_value=0.519"
   ]
  },
  {
   "cell_type": "code",
   "execution_count": 54,
   "id": "33d5e918",
   "metadata": {},
   "outputs": [
    {
     "name": "stdout",
     "output_type": "stream",
     "text": [
      "Data is from the Normal Distribution\n"
     ]
    }
   ],
   "source": [
    "if D_statistic<critical_value:\n",
    "    print(\"Data is from the Normal Distribution\")\n",
    "else:\n",
    "    print(\"Data is not from the Normal Distribution\")"
   ]
  },
  {
   "cell_type": "code",
   "execution_count": null,
   "id": "0d1cf9bb",
   "metadata": {},
   "outputs": [],
   "source": []
  }
 ],
 "metadata": {
  "kernelspec": {
   "display_name": "Python 3 (ipykernel)",
   "language": "python",
   "name": "python3"
  },
  "language_info": {
   "codemirror_mode": {
    "name": "ipython",
    "version": 3
   },
   "file_extension": ".py",
   "mimetype": "text/x-python",
   "name": "python",
   "nbconvert_exporter": "python",
   "pygments_lexer": "ipython3",
   "version": "3.10.9"
  }
 },
 "nbformat": 4,
 "nbformat_minor": 5
}
